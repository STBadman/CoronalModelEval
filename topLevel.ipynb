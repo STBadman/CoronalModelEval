{
 "cells": [
  {
   "cell_type": "markdown",
   "id": "54092a8b",
   "metadata": {},
   "source": [
    "### Notebook for an example Coronal Model Evaluation full cycle"
   ]
  },
  {
   "cell_type": "code",
   "execution_count": 1,
   "id": "b5a41d27",
   "metadata": {},
   "outputs": [],
   "source": [
    "from CHmetric import CHmetric\n",
    "from WLmetric import WLmetric\n",
    "from NLmetric import NLmetric"
   ]
  },
  {
   "cell_type": "code",
   "execution_count": null,
   "id": "eb62ce7c",
   "metadata": {},
   "outputs": [],
   "source": []
  }
 ],
 "metadata": {
  "kernelspec": {
   "display_name": "Python 3 (ipykernel)",
   "language": "python",
   "name": "python3"
  },
  "language_info": {
   "codemirror_mode": {
    "name": "ipython",
    "version": 3
   },
   "file_extension": ".py",
   "mimetype": "text/x-python",
   "name": "python",
   "nbconvert_exporter": "python",
   "pygments_lexer": "ipython3",
   "version": "3.9.13"
  }
 },
 "nbformat": 4,
 "nbformat_minor": 5
}
