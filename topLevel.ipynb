{
 "cells": [
  {
   "cell_type": "markdown",
   "id": "54092a8b",
   "metadata": {},
   "source": [
    "### Notebook for an example Coronal Model Evaluation full cycle"
   ]
  },
  {
   "cell_type": "code",
   "execution_count": 10,
   "id": "b5a41d27",
   "metadata": {},
   "outputs": [
    {
     "ename": "ImportError",
     "evalue": "cannot import name 'WLmetric' from 'WLmetric' (unknown location)",
     "output_type": "error",
     "traceback": [
      "\u001b[0;31m---------------------------------------------------------------------------\u001b[0m",
      "\u001b[0;31mImportError\u001b[0m                               Traceback (most recent call last)",
      "\u001b[0;32m/tmp/ipykernel_110060/2389261148.py\u001b[0m in \u001b[0;36m<module>\u001b[0;34m\u001b[0m\n\u001b[1;32m      1\u001b[0m \u001b[0;32mfrom\u001b[0m \u001b[0mCHmetric\u001b[0m \u001b[0;32mimport\u001b[0m \u001b[0mCHmetric\u001b[0m\u001b[0;34m\u001b[0m\u001b[0;34m\u001b[0m\u001b[0m\n\u001b[0;32m----> 2\u001b[0;31m \u001b[0;32mfrom\u001b[0m \u001b[0mWLmetric\u001b[0m \u001b[0;32mimport\u001b[0m \u001b[0mWLmetric\u001b[0m\u001b[0;34m\u001b[0m\u001b[0;34m\u001b[0m\u001b[0m\n\u001b[0m\u001b[1;32m      3\u001b[0m \u001b[0;32mfrom\u001b[0m \u001b[0mNLmetric\u001b[0m \u001b[0;32mimport\u001b[0m \u001b[0mNLmetric\u001b[0m\u001b[0;34m\u001b[0m\u001b[0;34m\u001b[0m\u001b[0m\n",
      "\u001b[0;31mImportError\u001b[0m: cannot import name 'WLmetric' from 'WLmetric' (unknown location)"
     ]
    }
   ],
   "source": [
    "from CHmetric import CHmetric\n",
    "from WLmetric import WLmetric\n",
    "from NLmetric import NLmetric"
   ]
  },
  {
   "cell_type": "code",
   "execution_count": 8,
   "id": "653d63e1",
   "metadata": {},
   "outputs": [],
   "source": []
  },
  {
   "cell_type": "code",
   "execution_count": null,
   "id": "f8de7e85",
   "metadata": {},
   "outputs": [],
   "source": []
  }
 ],
 "metadata": {
  "kernelspec": {
   "display_name": "Python 3 (ipykernel)",
   "language": "python",
   "name": "python3"
  },
  "language_info": {
   "codemirror_mode": {
    "name": "ipython",
    "version": 3
   },
   "file_extension": ".py",
   "mimetype": "text/x-python",
   "name": "python",
   "nbconvert_exporter": "python",
   "pygments_lexer": "ipython3",
   "version": "3.9.13"
  }
 },
 "nbformat": 4,
 "nbformat_minor": 5
}
